{
 "cells": [
  {
   "cell_type": "code",
   "execution_count": null,
   "id": "aac7b595-867c-4558-99bc-9b4b4f445ccf",
   "metadata": {
    "tags": []
   },
   "outputs": [],
   "source": [
    "pwd"
   ]
  },
  {
   "cell_type": "code",
   "execution_count": null,
   "id": "ce81a1b3-7c1b-42d8-b3ae-4e4df4f4985f",
   "metadata": {
    "tags": []
   },
   "outputs": [],
   "source": [
    "pip install boto3 sagemaker transformers"
   ]
  },
  {
   "cell_type": "code",
   "execution_count": null,
   "id": "7384ba39-45a2-465a-bca3-3450ec7f0bd4",
   "metadata": {},
   "outputs": [],
   "source": [
    "pip install --upgrade accelerate\n"
   ]
  },
  {
   "cell_type": "code",
   "execution_count": null,
   "id": "9ce91779-db10-4019-b828-8885f914a591",
   "metadata": {},
   "outputs": [],
   "source": [
    "from PIL import Image\n",
    "import requests\n",
    "\n",
    "from transformers import CLIPProcessor, CLIPModel, CLIPTokenizer\n",
    "\n",
    "model = CLIPModel.from_pretrained(\"openai/clip-vit-base-patch32\")\n",
    "processor = CLIPProcessor.from_pretrained(\"openai/clip-vit-base-patch32\")"
   ]
  },
  {
   "cell_type": "code",
   "execution_count": null,
   "id": "89198262-d1a5-45c9-9670-87601ea36126",
   "metadata": {},
   "outputs": [],
   "source": [
    "model.save_pretrained(\"./clip_mod2\")\n",
    "processor.save_pretrained(\"./clip_mod2\")\n"
   ]
  },
  {
   "cell_type": "code",
   "execution_count": null,
   "id": "db586dee-3436-4377-b018-970f4f287979",
   "metadata": {},
   "outputs": [],
   "source": [
    "import torch\n",
    "import os\n",
    "save_path = \"clip_mod2\"\n",
    "torch.save(model.state_dict(), os.path.join(save_path, \"pytorch_model.bin\"))"
   ]
  },
  {
   "cell_type": "code",
   "execution_count": null,
   "id": "90b799b1-64ec-45df-8985-ef5b721c8cef",
   "metadata": {},
   "outputs": [],
   "source": [
    "cd clip_mod2"
   ]
  },
  {
   "cell_type": "code",
   "execution_count": null,
   "id": "464c238c-1960-4809-a8f7-cf05ee736a82",
   "metadata": {},
   "outputs": [],
   "source": [
    "!rm -r model.safetensors"
   ]
  },
  {
   "cell_type": "code",
   "execution_count": null,
   "id": "a483c739-b276-4517-af2a-b95d558833a9",
   "metadata": {},
   "outputs": [],
   "source": [
    "!tar czvf model.tar.gz *"
   ]
  },
  {
   "cell_type": "code",
   "execution_count": null,
   "id": "85ccfbf3-129e-45ef-bbf8-c7e650118212",
   "metadata": {},
   "outputs": [],
   "source": [
    "import boto3\n",
    "\n",
    "s3 = boto3.client('s3')\n",
    "bucket_name = \"your-bucket\"\n",
    "model_file = \"model.tar.gz\"\n",
    "s3.upload_file(model_file, bucket_name, \"clip/model.tar.gz\")\n",
    "\n"
   ]
  },
  {
   "cell_type": "code",
   "execution_count": null,
   "id": "4acf0ebd-0b21-45d9-9879-b6a3ef7b0be7",
   "metadata": {},
   "outputs": [],
   "source": [
    "import sagemaker\n",
    "from sagemaker.huggingface import HuggingFaceModel\n",
    "\n",
    "# Initialize the SageMaker session\n",
    "sagemaker_session = sagemaker.Session()\n",
    "import sagemaker\n",
    "from sagemaker import get_execution_role\n",
    "\n",
    "# Get the SageMaker execution role\n",
    "role = get_execution_role()\n",
    "\n",
    "print(f\"Execution role: {role}\")\n",
    "\n",
    "\n",
    "huggingface_model = HuggingFaceModel(\n",
    "    model_data= \"s3://your-bucket/clip/model.tar.gz\",\n",
    "    transformers_version='4.26',\n",
    "\tpytorch_version='1.13',\n",
    "\tpy_version='py39',\n",
    "\trole=role,\n",
    "    \n",
    ")\n"
   ]
  },
  {
   "cell_type": "code",
   "execution_count": null,
   "id": "ed6b675c-2ab6-456b-85bd-38c63209f338",
   "metadata": {
    "tags": []
   },
   "outputs": [],
   "source": [
    "predictor = huggingface_model.deploy(\n",
    "\tinitial_instance_count=1, # number of instances\n",
    "\tinstance_type='ml.m5.xlarge' # ec2 instance type\n",
    ")\n"
   ]
  }
 ],
 "metadata": {
  "kernelspec": {
   "display_name": "conda_pytorch_p310",
   "language": "python",
   "name": "conda_pytorch_p310"
  },
  "language_info": {
   "codemirror_mode": {
    "name": "ipython",
    "version": 3
   },
   "file_extension": ".py",
   "mimetype": "text/x-python",
   "name": "python",
   "nbconvert_exporter": "python",
   "pygments_lexer": "ipython3",
   "version": "3.10.14"
  }
 },
 "nbformat": 4,
 "nbformat_minor": 5
}
